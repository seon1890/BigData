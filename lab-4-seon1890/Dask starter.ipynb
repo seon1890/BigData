{
 "cells": [
  {
   "cell_type": "markdown",
   "id": "selective-shakespeare",
   "metadata": {},
   "source": [
    "# Dask starter notebook\n",
    "\n",
    "This notebook introduces the basics of using dask with delayed functions and bags.\n",
    "\n",
    "You don't need to write any code to execute this notebook, just step through each cell."
   ]
  },
  {
   "cell_type": "code",
   "execution_count": 1,
   "id": "opening-montreal",
   "metadata": {},
   "outputs": [],
   "source": [
    "import dask\n",
    "import dask.bag as db\n",
    "\n",
    "# We'll use sleep to simulate some real work\n",
    "from time import sleep"
   ]
  },
  {
   "cell_type": "code",
   "execution_count": 2,
   "id": "tough-maker",
   "metadata": {},
   "outputs": [],
   "source": [
    "# We'll define a function that sleeps for 1 second to simulate work,\n",
    "# then returns the square of its input.\n",
    "\n",
    "def square(x):\n",
    "    sleep(1)\n",
    "    return x*x"
   ]
  },
  {
   "cell_type": "code",
   "execution_count": 3,
   "id": "directed-representation",
   "metadata": {},
   "outputs": [
    {
     "name": "stdout",
     "output_type": "stream",
     "text": [
      "CPU times: user 930 µs, sys: 162 µs, total: 1.09 ms\n",
      "Wall time: 10 s\n"
     ]
    },
    {
     "data": {
      "text/plain": [
       "285"
      ]
     },
     "execution_count": 3,
     "metadata": {},
     "output_type": "execute_result"
    }
   ],
   "source": [
    "# How long does it take to run a sum-of-squares serially?\n",
    "%time sum([square(z) for z in range(10)])"
   ]
  },
  {
   "cell_type": "code",
   "execution_count": 4,
   "id": "optimum-drinking",
   "metadata": {},
   "outputs": [],
   "source": [
    "# Make a delayed version of square\n",
    "f = dask.delayed(square)\n",
    "\n",
    "# y is now a delayed computation\n",
    "y = f(5)"
   ]
  },
  {
   "cell_type": "code",
   "execution_count": 5,
   "id": "documentary-vault",
   "metadata": {},
   "outputs": [
    {
     "data": {
      "text/plain": [
       "Delayed('square-76dbf083-227f-475a-b08b-bd60c9fc4d40')"
      ]
     },
     "execution_count": 5,
     "metadata": {},
     "output_type": "execute_result"
    }
   ],
   "source": [
    "y"
   ]
  },
  {
   "cell_type": "code",
   "execution_count": 6,
   "id": "banner-collaboration",
   "metadata": {},
   "outputs": [],
   "source": [
    "# We can derive a delayed computation for our sum above\n",
    "z = dask.delayed(sum)([f(x) for x in range(10)])"
   ]
  },
  {
   "cell_type": "code",
   "execution_count": 7,
   "id": "stretch-scope",
   "metadata": {},
   "outputs": [
    {
     "name": "stdout",
     "output_type": "stream",
     "text": [
      "CPU times: user 1.26 ms, sys: 2.05 ms, total: 3.31 ms\n",
      "Wall time: 10 s\n"
     ]
    },
    {
     "data": {
      "text/plain": [
       "285"
      ]
     },
     "execution_count": 7,
     "metadata": {},
     "output_type": "execute_result"
    }
   ],
   "source": [
    "# How long does it take to run the delayed summation with dask?\n",
    "%time z.compute()"
   ]
  },
  {
   "cell_type": "code",
   "execution_count": 8,
   "id": "163637a5-bc0b-472e-aae8-728075c39476",
   "metadata": {},
   "outputs": [
    {
     "name": "stdout",
     "output_type": "stream",
     "text": [
      "CPU times: user 1.73 ms, sys: 753 µs, total: 2.48 ms\n",
      "Wall time: 2.01 s\n"
     ]
    },
    {
     "data": {
      "text/plain": [
       "285"
      ]
     },
     "execution_count": 8,
     "metadata": {},
     "output_type": "execute_result"
    }
   ],
   "source": [
    "# How long does it take to run the delayed summation with dask if we force the number of workers using thread mode\n",
    "%time z.compute(scheduler='threads', num_workers=5)"
   ]
  },
  {
   "cell_type": "code",
   "execution_count": null,
   "id": "b480bf3d-c4ac-4bb4-b3e1-509b57dc3ccb",
   "metadata": {},
   "outputs": [],
   "source": [
    "# How long does it take to run the delayed summation with dask if using process mode\n",
    "%time z.compute(scheduler='processes', num_workers=5)"
   ]
  },
  {
   "cell_type": "code",
   "execution_count": null,
   "id": "c2c67e97-86a5-4418-8d9b-78f8922dffe7",
   "metadata": {},
   "outputs": [],
   "source": [
    "# How long does it take to run the delayed summation with dask if we use synchronous mode\n",
    "%time z.compute(scheduler='synchronous', num_workers=5)"
   ]
  },
  {
   "cell_type": "markdown",
   "id": "french-bailey",
   "metadata": {},
   "source": [
    "## Bags\n",
    "\n",
    "The code above uses only delayed functions to express parallel computation.\n",
    "We can also use bags to represent our data, and have a slightly higher-level control over things."
   ]
  },
  {
   "cell_type": "code",
   "execution_count": 3,
   "id": "meaningful-sheffield",
   "metadata": {},
   "outputs": [],
   "source": [
    "# Make a bag out of the sequence [0, 1, 2, 3, 4]\n",
    "# Give it 3 partitions\n",
    "bag = db.from_sequence(range(5), npartitions=3)\n",
    "\n",
    "# Map the square function over the bag\n",
    "c = bag.map(square)\n",
    "\n",
    "# Apply the sum function to the result\n",
    "d = c.sum()"
   ]
  },
  {
   "cell_type": "code",
   "execution_count": 4,
   "id": "thorough-cassette",
   "metadata": {},
   "outputs": [
    {
     "data": {
      "text/plain": [
       "dask.bag<from_sequence, npartitions=3>"
      ]
     },
     "execution_count": 4,
     "metadata": {},
     "output_type": "execute_result"
    }
   ],
   "source": [
    "bag"
   ]
  },
  {
   "cell_type": "code",
   "execution_count": null,
   "id": "powered-brass",
   "metadata": {},
   "outputs": [],
   "source": [
    "# Mapping a function over a bag produces a new bag with the same partition structure\n",
    "c"
   ]
  },
  {
   "cell_type": "code",
   "execution_count": null,
   "id": "theoretical-draft",
   "metadata": {},
   "outputs": [],
   "source": [
    "# We can visualize the computation as follows:\n",
    "c.visualize()"
   ]
  },
  {
   "cell_type": "code",
   "execution_count": null,
   "id": "filled-benchmark",
   "metadata": {},
   "outputs": [],
   "source": [
    "# Applying a sum() reduction gives us a single Item (not a bag)\n",
    "d"
   ]
  },
  {
   "cell_type": "code",
   "execution_count": null,
   "id": "painful-hygiene",
   "metadata": {},
   "outputs": [],
   "source": [
    "d.visualize()"
   ]
  },
  {
   "cell_type": "code",
   "execution_count": null,
   "id": "dense-practitioner",
   "metadata": {},
   "outputs": [],
   "source": [
    "d.compute()"
   ]
  }
 ],
 "metadata": {
  "kernelspec": {
   "display_name": "Python 3 (ipykernel)",
   "language": "python",
   "name": "python3"
  },
  "language_info": {
   "codemirror_mode": {
    "name": "ipython",
    "version": 3
   },
   "file_extension": ".py",
   "mimetype": "text/x-python",
   "name": "python",
   "nbconvert_exporter": "python",
   "pygments_lexer": "ipython3",
   "version": "3.9.10"
  }
 },
 "nbformat": 4,
 "nbformat_minor": 5
}
